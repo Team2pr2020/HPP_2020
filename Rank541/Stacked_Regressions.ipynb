{
  "nbformat": 4,
  "nbformat_minor": 0,
  "metadata": {
    "colab": {
      "name": "Stacked Regressions.ipynb",
      "provenance": [],
      "collapsed_sections": [],
      "authorship_tag": "ABX9TyMHFXKd8P2vNE54U1TT/0eD",
      "include_colab_link": true
    },
    "kernelspec": {
      "name": "python3",
      "display_name": "Python 3"
    }
  },
  "cells": [
    {
      "cell_type": "markdown",
      "metadata": {
        "id": "view-in-github",
        "colab_type": "text"
      },
      "source": [
        "<a href=\"https://colab.research.google.com/github/Team2pr2020/HPP_2020/blob/master/Rank541/Stacked_Regressions.ipynb\" target=\"_parent\"><img src=\"https://colab.research.google.com/assets/colab-badge.svg\" alt=\"Open In Colab\"/></a>"
      ]
    },
    {
      "cell_type": "markdown",
      "metadata": {
        "id": "fj9AaAJn1trt",
        "colab_type": "text"
      },
      "source": [
        "For this model, we are using stacked regressions. \n",
        "\n",
        "The idea behind this is to create multiple combinations of different variables. \n",
        "\n",
        "Using these combinations, we can create an accurate prediction by cross validating the data obtained from each of the combinations."
      ]
    },
    {
      "cell_type": "markdown",
      "metadata": {
        "id": "1F7eYLv01w_N",
        "colab_type": "text"
      },
      "source": [
        "This model was created with help from:\n",
        "\n",
        "https://www.kaggle.com/serigne/stacked-regressions-top-4-on-leaderboard"
      ]
    },
    {
      "cell_type": "code",
      "metadata": {
        "id": "OVI3i7312Lh-",
        "colab_type": "code",
        "outputId": "3d24c96b-ac33-4fc9-8e2c-18eb9f421250",
        "colab": {
          "base_uri": "https://localhost:8080/",
          "height": 55
        }
      },
      "source": [
        "from google.colab import drive\n",
        "drive.mount('/content/drive')"
      ],
      "execution_count": 0,
      "outputs": [
        {
          "output_type": "stream",
          "text": [
            "Drive already mounted at /content/drive; to attempt to forcibly remount, call drive.mount(\"/content/drive\", force_remount=True).\n"
          ],
          "name": "stdout"
        }
      ]
    },
    {
      "cell_type": "code",
      "metadata": {
        "id": "au6vJRlC2JCv",
        "colab_type": "code",
        "colab": {}
      },
      "source": [
        "import pandas as pd\n",
        "\n",
        "train_data = pd.read_csv('/content/drive/My Drive/train.csv')\n",
        "test_data = pd.read_csv('/content/drive/My Drive/test.csv')"
      ],
      "execution_count": 0,
      "outputs": []
    },
    {
      "cell_type": "markdown",
      "metadata": {
        "id": "AZULSX4h4aYw",
        "colab_type": "text"
      },
      "source": [
        "Import the train and test datasets into the panda dataframe"
      ]
    },
    {
      "cell_type": "code",
      "metadata": {
        "id": "EY9OwAZK2oie",
        "colab_type": "code",
        "colab": {}
      },
      "source": [
        "import numpy as np\n",
        "%matplotlib inline\n",
        "import matplotlib.pyplot as plt\n",
        "import seaborn as sns\n",
        "sea_color = sns.color_palette()\n",
        "sns.set_style('darkgrid')\n",
        "import warnings\n",
        "def ignore_warn(*args, **kwargs):\n",
        "    pass\n",
        "warnings.warn = ignore_warn"
      ],
      "execution_count": 0,
      "outputs": []
    },
    {
      "cell_type": "markdown",
      "metadata": {
        "id": "u7slL1PN3b09",
        "colab_type": "text"
      },
      "source": [
        "Importing all useful modules, all of these modules are used for plotting and editing graphs which is vital for this model"
      ]
    },
    {
      "cell_type": "code",
      "metadata": {
        "id": "f_lINZYU3IEX",
        "colab_type": "code",
        "colab": {}
      },
      "source": [
        "from scipy import stats\n",
        "from scipy.stats import norm, skew"
      ],
      "execution_count": 0,
      "outputs": []
    },
    {
      "cell_type": "markdown",
      "metadata": {
        "id": "LMPa8Mbt3u6W",
        "colab_type": "text"
      },
      "source": [
        "Importing these 2 modules to use for statistics later "
      ]
    },
    {
      "cell_type": "code",
      "metadata": {
        "id": "2XVWfsx631At",
        "colab_type": "code",
        "colab": {}
      },
      "source": [
        "pd.set_option('display.float_format', lambda x: '{:.3f}'.format(x))"
      ],
      "execution_count": 0,
      "outputs": []
    },
    {
      "cell_type": "markdown",
      "metadata": {
        "id": "-_nh8NPG30ii",
        "colab_type": "text"
      },
      "source": [
        "This will limit the output of float values to 3 decimal points (or less)"
      ]
    },
    {
      "cell_type": "code",
      "metadata": {
        "id": "ToJkrEJ94O34",
        "colab_type": "code",
        "colab": {}
      },
      "source": [
        "train_ID = train_data['Id']\n",
        "test_ID = test_data['Id']"
      ],
      "execution_count": 0,
      "outputs": []
    },
    {
      "cell_type": "markdown",
      "metadata": {
        "id": "MM6tYXuI4Okj",
        "colab_type": "text"
      },
      "source": [
        "The id columns are not needed in the prediction process and so will need to be removed. Before doing this, we're saving the Id columns. "
      ]
    },
    {
      "cell_type": "code",
      "metadata": {
        "id": "3VD2abbV5SGF",
        "colab_type": "code",
        "colab": {}
      },
      "source": [
        "train_data.drop(\"Id\", axis = 1, inplace = True)\n",
        "test_data.drop(\"Id\", axis = 1, inplace = True)"
      ],
      "execution_count": 0,
      "outputs": []
    },
    {
      "cell_type": "markdown",
      "metadata": {
        "id": "NGalS1zf5gfI",
        "colab_type": "text"
      },
      "source": [
        "This deletes the Id column from each of the datasets."
      ]
    },
    {
      "cell_type": "code",
      "metadata": {
        "id": "xu-a_Hgz5p6E",
        "colab_type": "code",
        "outputId": "39be8c7b-dd15-4079-e618-549e8e22ef9f",
        "colab": {
          "base_uri": "https://localhost:8080/",
          "height": 282
        }
      },
      "source": [
        "fig, ax = plt.subplots()\n",
        "ax.scatter(x = train_data['GrLivArea'], y = train_data['SalePrice'])\n",
        "plt.ylabel('SalePrice', fontsize=13)\n",
        "plt.xlabel('GrLivArea', fontsize=13)\n",
        "plt.show()"
      ],
      "execution_count": 0,
      "outputs": [
        {
          "output_type": "display_data",
          "data": {
            "image/png": "[encoded data removed]",
            "text/plain": [
              "<Figure size 432x288 with 1 Axes>"
            ]
          },
          "metadata": {
            "tags": []
          }
        }
      ]
    },
    {
      "cell_type": "markdown",
      "metadata": {
        "id": "GV9tmpsm6CJn",
        "colab_type": "text"
      },
      "source": [
        "Checking for outlying data in the \"train\" dataset.\n",
        "\n",
        "It can be seen from here that there are 2 large outliers (in the bottom right). These 2 can be deleted."
      ]
    },
    {
      "cell_type": "code",
      "metadata": {
        "id": "yLyOzav06aay",
        "colab_type": "code",
        "colab": {}
      },
      "source": [
        "train_data = train_data.drop(train_data[(train_data['GrLivArea']>4000) & (train_data['SalePrice']<300000)].index)"
      ],
      "execution_count": 0,
      "outputs": []
    },
    {
      "cell_type": "markdown",
      "metadata": {
        "id": "VVazDwGQ7CLK",
        "colab_type": "text"
      },
      "source": [
        "After looking at these 2 graphs (and from previous models we have created), we can see that the \"SalePrice\" variable (which is our target variable) is currently skewed and so our current goal is to ensure that it is normally skewed."
      ]
    },
    {
      "cell_type": "code",
      "metadata": {
        "id": "pSNGKqWR7dNM",
        "colab_type": "code",
        "colab": {}
      },
      "source": [
        "train_data[\"SalePrice\"] = np.log1p(train_data[\"SalePrice\"])"
      ],
      "execution_count": 0,
      "outputs": []
    },
    {
      "cell_type": "markdown",
      "metadata": {
        "id": "2TxUFlh38TOP",
        "colab_type": "text"
      },
      "source": [
        "In order to ammend the data, we are using a numpy function (log1p). This function will apply the formula log(1+x) to every element within the column."
      ]
    },
    {
      "cell_type": "code",
      "metadata": {
        "id": "q78M8b1m8iAa",
        "colab_type": "code",
        "outputId": "2257a600-5c2f-4054-ccd7-7a762840a5ab",
        "colab": {
          "base_uri": "https://localhost:8080/",
          "height": 628
        }
      },
      "source": [
        "sns.distplot(train_data['SalePrice'] , fit=norm);\n",
        "\n",
        "(mu, sigma) = norm.fit(train_data['SalePrice'])\n",
        "print( '\\n mu = {:.2f} and sigma = {:.2f}\\n'.format(mu, sigma))\n",
        "\n",
        "plt.legend(['Normal dist. ($\\mu=$ {:.2f} and $\\sigma=$ {:.2f} )'.format(mu, sigma)],\n",
        "            loc='best')\n",
        "plt.ylabel('Frequency')\n",
        "plt.title('SalePrice distribution')\n",
        "\n",
        "fig = plt.figure()\n",
        "res = stats.probplot(train_data['SalePrice'], plot=plt)\n",
        "plt.show()"
      ],
      "execution_count": 0,
      "outputs": [
        {
          "output_type": "stream",
          "text": [
            "\n",
            " mu = 12.02 and sigma = 0.40\n",
            "\n"
          ],
          "name": "stdout"
        },
        {
          "output_type": "display_data",
          "data": {
            "image/png": "[encoded data removed]",
            "text/plain": [
              "<Figure size 432x288 with 1 Axes>"
            ]
          },
          "metadata": {
            "tags": []
          }
        },
        {
          "output_type": "display_data",
          "data": {
            "image/png": "[encoded data removed]",
            "text/plain": [
              "<Figure size 432x288 with 1 Axes>"
            ]
          },
          "metadata": {
            "tags": []
          }
        }
      ]
    },
    {
      "cell_type": "code",
      "metadata": {
        "id": "pkPhrG2O80QW",
        "colab_type": "code",
        "colab": {}
      },
      "source": [
        "train = train_data\n",
        "test = test_data"
      ],
      "execution_count": 0,
      "outputs": []
    },
    {
      "cell_type": "markdown",
      "metadata": {
        "id": "7_e_DGa885_J",
        "colab_type": "text"
      },
      "source": [
        "Making it easier and shorter to write these variables"
      ]
    },
    {
      "cell_type": "code",
      "metadata": {
        "id": "THwB5Hur8_KA",
        "colab_type": "code",
        "outputId": "7133f943-9051-4bee-ab23-0c282bdcfa6d",
        "colab": {
          "base_uri": "https://localhost:8080/",
          "height": 35
        }
      },
      "source": [
        "ntrain = train.shape[0]\n",
        "ntest = test.shape[0]\n",
        "y_train = train.SalePrice.values\n",
        "all_data = pd.concat((train, test)).reset_index(drop=True)\n",
        "all_data.drop(['SalePrice'], axis=1, inplace=True)\n",
        "print(\"all_data size is : {}\".format(all_data.shape))"
      ],
      "execution_count": 0,
      "outputs": [
        {
          "output_type": "stream",
          "text": [
            "all_data size is : (2917, 79)\n"
          ],
          "name": "stdout"
        }
      ]
    },
    {
      "cell_type": "markdown",
      "metadata": {
        "id": "il5UCXZ59E5A",
        "colab_type": "text"
      },
      "source": [
        "Concatenating (linking) the 2 dataframes (test, train) together."
      ]
    },
    {
      "cell_type": "markdown",
      "metadata": {
        "id": "pdOB3lmK9mhu",
        "colab_type": "text"
      },
      "source": [
        "The next job is to sort out all of the missing data within the combined dataframes"
      ]
    },
    {
      "cell_type": "code",
      "metadata": {
        "id": "QarUsihO9PDi",
        "colab_type": "code",
        "outputId": "942fa4bb-639b-46d7-ce7f-5b4ef4b31b09",
        "colab": {
          "base_uri": "https://localhost:8080/",
          "height": 677
        }
      },
      "source": [
        "all_data_na = (all_data.isnull().sum() / len(all_data)) * 100\n",
        "all_data_na = all_data_na.drop(all_data_na[all_data_na == 0].index).sort_values(ascending=False)[:30]\n",
        "missing_data = pd.DataFrame({'Missing Ratio' :all_data_na})\n",
        "missing_data.head(20)"
      ],
      "execution_count": 0,
      "outputs": [
        {
          "output_type": "execute_result",
          "data": {
            "text/html": [
              "<div>\n",
              "<style scoped>\n",
              "    .dataframe tbody tr th:only-of-type {\n",
              "        vertical-align: middle;\n",
              "    }\n",
              "\n",
              "    .dataframe tbody tr th {\n",
              "        vertical-align: top;\n",
              "    }\n",
              "\n",
              "    .dataframe thead th {\n",
              "        text-align: right;\n",
              "    }\n",
              "</style>\n",
              "<table border=\"1\" class=\"dataframe\">\n",
              "  <thead>\n",
              "    <tr style=\"text-align: right;\">\n",
              "      <th></th>\n",
              "      <th>Missing Ratio</th>\n",
              "    </tr>\n",
              "  </thead>\n",
              "  <tbody>\n",
              "    <tr>\n",
              "      <th>PoolQC</th>\n",
              "      <td>99.691</td>\n",
              "    </tr>\n",
              "    <tr>\n",
              "      <th>MiscFeature</th>\n",
              "      <td>96.400</td>\n",
              "    </tr>\n",
              "    <tr>\n",
              "      <th>Alley</th>\n",
              "      <td>93.212</td>\n",
              "    </tr>\n",
              "    <tr>\n",
              "      <th>Fence</th>\n",
              "      <td>80.425</td>\n",
              "    </tr>\n",
              "    <tr>\n",
              "      <th>FireplaceQu</th>\n",
              "      <td>48.680</td>\n",
              "    </tr>\n",
              "    <tr>\n",
              "      <th>LotFrontage</th>\n",
              "      <td>16.661</td>\n",
              "    </tr>\n",
              "    <tr>\n",
              "      <th>GarageQual</th>\n",
              "      <td>5.451</td>\n",
              "    </tr>\n",
              "    <tr>\n",
              "      <th>GarageCond</th>\n",
              "      <td>5.451</td>\n",
              "    </tr>\n",
              "    <tr>\n",
              "      <th>GarageFinish</th>\n",
              "      <td>5.451</td>\n",
              "    </tr>\n",
              "    <tr>\n",
              "      <th>GarageYrBlt</th>\n",
              "      <td>5.451</td>\n",
              "    </tr>\n",
              "    <tr>\n",
              "      <th>GarageType</th>\n",
              "      <td>5.382</td>\n",
              "    </tr>\n",
              "    <tr>\n",
              "      <th>BsmtExposure</th>\n",
              "      <td>2.811</td>\n",
              "    </tr>\n",
              "    <tr>\n",
              "      <th>BsmtCond</th>\n",
              "      <td>2.811</td>\n",
              "    </tr>\n",
              "    <tr>\n",
              "      <th>BsmtQual</th>\n",
              "      <td>2.777</td>\n",
              "    </tr>\n",
              "    <tr>\n",
              "      <th>BsmtFinType2</th>\n",
              "      <td>2.743</td>\n",
              "    </tr>\n",
              "    <tr>\n",
              "      <th>BsmtFinType1</th>\n",
              "      <td>2.708</td>\n",
              "    </tr>\n",
              "    <tr>\n",
              "      <th>MasVnrType</th>\n",
              "      <td>0.823</td>\n",
              "    </tr>\n",
              "    <tr>\n",
              "      <th>MasVnrArea</th>\n",
              "      <td>0.788</td>\n",
              "    </tr>\n",
              "    <tr>\n",
              "      <th>MSZoning</th>\n",
              "      <td>0.137</td>\n",
              "    </tr>\n",
              "    <tr>\n",
              "      <th>BsmtFullBath</th>\n",
              "      <td>0.069</td>\n",
              "    </tr>\n",
              "  </tbody>\n",
              "</table>\n",
              "</div>"
            ],
            "text/plain": [
              "              Missing Ratio\n",
              "PoolQC               99.691\n",
              "MiscFeature          96.400\n",
              "Alley                93.212\n",
              "Fence                80.425\n",
              "FireplaceQu          48.680\n",
              "LotFrontage          16.661\n",
              "GarageQual            5.451\n",
              "GarageCond            5.451\n",
              "GarageFinish          5.451\n",
              "GarageYrBlt           5.451\n",
              "GarageType            5.382\n",
              "BsmtExposure          2.811\n",
              "BsmtCond              2.811\n",
              "BsmtQual              2.777\n",
              "BsmtFinType2          2.743\n",
              "BsmtFinType1          2.708\n",
              "MasVnrType            0.823\n",
              "MasVnrArea            0.788\n",
              "MSZoning              0.137\n",
              "BsmtFullBath          0.069"
            ]
          },
          "metadata": {
            "tags": []
          },
          "execution_count": 147
        }
      ]
    },
    {
      "cell_type": "markdown",
      "metadata": {
        "id": "IRtBYVK19xzw",
        "colab_type": "text"
      },
      "source": [
        "This shows us the ratio of missing data (for each variable that had missing data).\n",
        "\n",
        "There are other ways in which to visualise this, we will use a graph (as it is the method used within the guide)."
      ]
    },
    {
      "cell_type": "code",
      "metadata": {
        "id": "xrJv8yI-I5m_",
        "colab_type": "code",
        "outputId": "55ecf290-e4bb-42c4-b71a-86edc8f83c73",
        "colab": {
          "base_uri": "https://localhost:8080/",
          "height": 837
        }
      },
      "source": [
        "f, ax = plt.subplots(figsize=(15, 12))\n",
        "plt.xticks(rotation='90')\n",
        "sns.barplot(x=all_data_na.index, y=all_data_na)\n",
        "plt.xlabel('Features', fontsize=15)\n",
        "plt.ylabel('Percent of missing values', fontsize=15)\n",
        "plt.title('Percent missing data by feature', fontsize=15)"
      ],
      "execution_count": 0,
      "outputs": [
        {
          "output_type": "execute_result",
          "data": {
            "text/plain": [
              "Text(0.5, 1.0, 'Percent missing data by feature')"
            ]
          },
          "metadata": {
            "tags": []
          },
          "execution_count": 148
        },
        {
          "output_type": "display_data",
          "data": {
            "image/png": "[encoded data removed]",
            "text/plain": [
              "<Figure size 1080x864 with 1 Axes>"
            ]
          },
          "metadata": {
            "tags": []
          }
        }
      ]
    },
    {
      "cell_type": "code",
      "metadata": {
        "id": "z7vVYNykgsJu",
        "colab_type": "code",
        "colab": {}
      },
      "source": [
        "all_data[\"PoolQC\"] = all_data[\"PoolQC\"].fillna(\"None\")\n",
        "\n",
        "all_data[\"MiscFeature\"] = all_data[\"MiscFeature\"].fillna(\"None\")\n",
        "\n",
        "all_data[\"Alley\"] = all_data[\"Alley\"].fillna(\"None\")\n",
        "\n",
        "all_data[\"Fence\"] = all_data[\"Fence\"].fillna(\"None\")\n",
        "\n",
        "all_data[\"FireplaceQu\"] = all_data[\"FireplaceQu\"].fillna(\"None\")\n",
        "\n",
        "all_data[\"LotFrontage\"] = all_data.groupby(\"Neighborhood\")[\"LotFrontage\"].transform(\n",
        "    lambda x: x.fillna(x.median()))\n",
        "\n",
        "for col in ('GarageType', 'GarageFinish', 'GarageQual', 'GarageCond'):\n",
        "    all_data[col] = all_data[col].fillna('None')\n",
        "\n",
        "for col in ('GarageYrBlt', 'GarageArea', 'GarageCars'):\n",
        "    all_data[col] = all_data[col].fillna(0)\n",
        "\n",
        "for col in ('BsmtFinSF1', 'BsmtFinSF2', 'BsmtUnfSF','TotalBsmtSF', 'BsmtFullBath', 'BsmtHalfBath'):\n",
        "    all_data[col] = all_data[col].fillna(0)\n",
        "\n",
        "for col in ('BsmtQual', 'BsmtCond', 'BsmtExposure', 'BsmtFinType1', 'BsmtFinType2'):\n",
        "    all_data[col] = all_data[col].fillna('None')\n",
        "\n",
        "all_data[\"MasVnrType\"] = all_data[\"MasVnrType\"].fillna(\"None\")\n",
        "\n",
        "all_data[\"MasVnrArea\"] = all_data[\"MasVnrArea\"].fillna(0)\n",
        "\n",
        "all_data['MSZoning'] = all_data['MSZoning'].fillna(all_data['MSZoning'].mode()[0])\n",
        "\n",
        "all_data = all_data.drop(['Utilities'], axis=1)\n",
        "\n",
        "all_data[\"Functional\"] = all_data[\"Functional\"].fillna(\"Typ\")\n",
        "\n",
        "all_data['Electrical'] = all_data['Electrical'].fillna(all_data['Electrical'].mode()[0])\n",
        "\n",
        "all_data['KitchenQual'] = all_data['KitchenQual'].fillna(all_data['KitchenQual'].mode()[0])\n",
        "\n",
        "all_data['Exterior1st'] = all_data['Exterior1st'].fillna(all_data['Exterior1st'].mode()[0])\n",
        "\n",
        "all_data['Exterior2nd'] = all_data['Exterior2nd'].fillna(all_data['Exterior2nd'].mode()[0])\n",
        "\n",
        "all_data['SaleType'] = all_data['SaleType'].fillna(all_data['SaleType'].mode()[0])\n",
        "\n",
        "all_data['MSSubClass'] = all_data['MSSubClass'].fillna(\"None\")\n"
      ],
      "execution_count": 0,
      "outputs": []
    },
    {
      "cell_type": "markdown",
      "metadata": {
        "id": "9D7Qr2d-iB2Z",
        "colab_type": "text"
      },
      "source": [
        "This fills in all missing data. It was done by finding the type of data that each variable (missing data) contains. Then filling in the data for each variable.\n",
        "\n",
        "This is ordered by the type of data that is missing and further by how much data is missing."
      ]
    },
    {
      "cell_type": "code",
      "metadata": {
        "id": "f8JzdOtFiljF",
        "colab_type": "code",
        "outputId": "25884ce9-cfdf-447e-90e3-00952141f3d0",
        "colab": {
          "base_uri": "https://localhost:8080/",
          "height": 49
        }
      },
      "source": [
        "all_data_na = (all_data.isnull().sum() / len(all_data)) * 100\n",
        "all_data_na = all_data_na.drop(all_data_na[all_data_na == 0].index).sort_values(ascending=False)\n",
        "missing_data = pd.DataFrame({'Missing Ratio' :all_data_na})\n",
        "missing_data.head()"
      ],
      "execution_count": 0,
      "outputs": [
        {
          "output_type": "execute_result",
          "data": {
            "text/html": [
              "<div>\n",
              "<style scoped>\n",
              "    .dataframe tbody tr th:only-of-type {\n",
              "        vertical-align: middle;\n",
              "    }\n",
              "\n",
              "    .dataframe tbody tr th {\n",
              "        vertical-align: top;\n",
              "    }\n",
              "\n",
              "    .dataframe thead th {\n",
              "        text-align: right;\n",
              "    }\n",
              "</style>\n",
              "<table border=\"1\" class=\"dataframe\">\n",
              "  <thead>\n",
              "    <tr style=\"text-align: right;\">\n",
              "      <th></th>\n",
              "      <th>Missing Ratio</th>\n",
              "    </tr>\n",
              "  </thead>\n",
              "  <tbody>\n",
              "  </tbody>\n",
              "</table>\n",
              "</div>"
            ],
            "text/plain": [
              "Empty DataFrame\n",
              "Columns: [Missing Ratio]\n",
              "Index: []"
            ]
          },
          "metadata": {
            "tags": []
          },
          "execution_count": 150
        }
      ]
    },
    {
      "cell_type": "markdown",
      "metadata": {
        "id": "A2XZqdrGip8V",
        "colab_type": "text"
      },
      "source": [
        "Checking if there are any remaining missing variables."
      ]
    },
    {
      "cell_type": "code",
      "metadata": {
        "id": "bLAmcstlitwQ",
        "colab_type": "code",
        "colab": {}
      },
      "source": [
        "all_data['MSSubClass'] = all_data['MSSubClass'].apply(str)\n",
        "\n",
        "all_data['OverallCond'] = all_data['OverallCond'].astype(str)\n",
        "\n",
        "all_data['YrSold'] = all_data['YrSold'].astype(str)\n",
        "\n",
        "all_data['MoSold'] = all_data['MoSold'].astype(str)"
      ],
      "execution_count": 0,
      "outputs": []
    },
    {
      "cell_type": "markdown",
      "metadata": {
        "id": "hLrkUUgzi0u_",
        "colab_type": "text"
      },
      "source": [
        "This will transform some of the variables that should be categorical but are instead numerical."
      ]
    },
    {
      "cell_type": "code",
      "metadata": {
        "id": "pj-UrJ3qjCFL",
        "colab_type": "code",
        "outputId": "a2f4253e-a55b-48ca-f3cb-bd15fafbe95a",
        "colab": {
          "base_uri": "https://localhost:8080/",
          "height": 35
        }
      },
      "source": [
        "from sklearn.preprocessing import LabelEncoder\n",
        "cols = ('FireplaceQu', 'BsmtQual', 'BsmtCond', 'GarageQual', 'GarageCond', \n",
        "        'ExterQual', 'ExterCond','HeatingQC', 'PoolQC', 'KitchenQual', 'BsmtFinType1', \n",
        "        'BsmtFinType2', 'Functional', 'Fence', 'BsmtExposure', 'GarageFinish', 'LandSlope',\n",
        "        'LotShape', 'PavedDrive', 'Street', 'Alley', 'CentralAir', 'MSSubClass', 'OverallCond', \n",
        "        'YrSold', 'MoSold')\n",
        "for c in cols:\n",
        "    lbl = LabelEncoder() \n",
        "    lbl.fit(list(all_data[c].values)) \n",
        "    all_data[c] = lbl.transform(list(all_data[c].values))\n",
        "\n",
        "print('Shape all_data: {}'.format(all_data.shape))"
      ],
      "execution_count": 0,
      "outputs": [
        {
          "output_type": "stream",
          "text": [
            "Shape all_data: (2917, 78)\n"
          ],
          "name": "stdout"
        }
      ]
    },
    {
      "cell_type": "markdown",
      "metadata": {
        "id": "zDLXW0fZjLKO",
        "colab_type": "text"
      },
      "source": [
        "Encoding some of the categorical variables that could potentially contain information in their ordering set."
      ]
    },
    {
      "cell_type": "code",
      "metadata": {
        "id": "swXUK7bdjfcW",
        "colab_type": "code",
        "colab": {}
      },
      "source": [
        "all_data['TotalSF'] = all_data['TotalBsmtSF'] + all_data['1stFlrSF'] + all_data['2ndFlrSF']"
      ],
      "execution_count": 0,
      "outputs": []
    },
    {
      "cell_type": "markdown",
      "metadata": {
        "id": "9nNnL0Z8jhrh",
        "colab_type": "text"
      },
      "source": [
        "This creates a new variable which contains the total area of the houses basement, first floor and the second floor.\n",
        "\n",
        "This has been done as we know from creating other models in the past that there is a very strong relationship between the area of floors within the house and the saleprice."
      ]
    },
    {
      "cell_type": "code",
      "metadata": {
        "id": "DfTsD7UUkAvi",
        "colab_type": "code",
        "outputId": "5fcd48e8-7fc0-4753-9781-810570a23d73",
        "colab": {
          "base_uri": "https://localhost:8080/",
          "height": 418
        }
      },
      "source": [
        "numeric_feats = all_data.dtypes[all_data.dtypes != \"object\"].index\n",
        "\n",
        "skewed_feats = all_data[numeric_feats].apply(lambda x: skew(x.dropna())).sort_values(ascending=False)\n",
        "print(\"\\nSkew in numerical features: \\n\")\n",
        "skewness = pd.DataFrame({'Skew' :skewed_feats})\n",
        "skewness.head(10)\n",
        "\n"
      ],
      "execution_count": 0,
      "outputs": [
        {
          "output_type": "stream",
          "text": [
            "\n",
            "Skew in numerical features: \n",
            "\n"
          ],
          "name": "stdout"
        },
        {
          "output_type": "execute_result",
          "data": {
            "text/html": [
              "<div>\n",
              "<style scoped>\n",
              "    .dataframe tbody tr th:only-of-type {\n",
              "        vertical-align: middle;\n",
              "    }\n",
              "\n",
              "    .dataframe tbody tr th {\n",
              "        vertical-align: top;\n",
              "    }\n",
              "\n",
              "    .dataframe thead th {\n",
              "        text-align: right;\n",
              "    }\n",
              "</style>\n",
              "<table border=\"1\" class=\"dataframe\">\n",
              "  <thead>\n",
              "    <tr style=\"text-align: right;\">\n",
              "      <th></th>\n",
              "      <th>Skew</th>\n",
              "    </tr>\n",
              "  </thead>\n",
              "  <tbody>\n",
              "    <tr>\n",
              "      <th>MiscVal</th>\n",
              "      <td>21.940</td>\n",
              "    </tr>\n",
              "    <tr>\n",
              "      <th>PoolArea</th>\n",
              "      <td>17.689</td>\n",
              "    </tr>\n",
              "    <tr>\n",
              "      <th>LotArea</th>\n",
              "      <td>13.109</td>\n",
              "    </tr>\n",
              "    <tr>\n",
              "      <th>LowQualFinSF</th>\n",
              "      <td>12.085</td>\n",
              "    </tr>\n",
              "    <tr>\n",
              "      <th>3SsnPorch</th>\n",
              "      <td>11.372</td>\n",
              "    </tr>\n",
              "    <tr>\n",
              "      <th>LandSlope</th>\n",
              "      <td>4.973</td>\n",
              "    </tr>\n",
              "    <tr>\n",
              "      <th>KitchenAbvGr</th>\n",
              "      <td>4.301</td>\n",
              "    </tr>\n",
              "    <tr>\n",
              "      <th>BsmtFinSF2</th>\n",
              "      <td>4.145</td>\n",
              "    </tr>\n",
              "    <tr>\n",
              "      <th>EnclosedPorch</th>\n",
              "      <td>4.002</td>\n",
              "    </tr>\n",
              "    <tr>\n",
              "      <th>ScreenPorch</th>\n",
              "      <td>3.945</td>\n",
              "    </tr>\n",
              "  </tbody>\n",
              "</table>\n",
              "</div>"
            ],
            "text/plain": [
              "                Skew\n",
              "MiscVal       21.940\n",
              "PoolArea      17.689\n",
              "LotArea       13.109\n",
              "LowQualFinSF  12.085\n",
              "3SsnPorch     11.372\n",
              "LandSlope      4.973\n",
              "KitchenAbvGr   4.301\n",
              "BsmtFinSF2     4.145\n",
              "EnclosedPorch  4.002\n",
              "ScreenPorch    3.945"
            ]
          },
          "metadata": {
            "tags": []
          },
          "execution_count": 154
        }
      ]
    },
    {
      "cell_type": "markdown",
      "metadata": {
        "id": "6qAKfYTqkGLB",
        "colab_type": "text"
      },
      "source": [
        "Checking the skew of the numerical features."
      ]
    },
    {
      "cell_type": "code",
      "metadata": {
        "id": "yQJ2TZZpkJfC",
        "colab_type": "code",
        "outputId": "5425a005-edad-49f7-c834-48664d2c4e07",
        "colab": {
          "base_uri": "https://localhost:8080/",
          "height": 35
        }
      },
      "source": [
        "skewness = skewness[abs(skewness) > 0.75]\n",
        "print(\"There are {} skewed numerical features to Box Cox transform\".format(skewness.shape[0]))\n",
        "\n",
        "from scipy.special import boxcox1p\n",
        "skewed_features = skewness.index\n",
        "lam = 0.15\n",
        "for feat in skewed_features:\n",
        "    #all_data[feat] += 1\n",
        "    all_data[feat] = boxcox1p(all_data[feat], lam)"
      ],
      "execution_count": 0,
      "outputs": [
        {
          "output_type": "stream",
          "text": [
            "There are 59 skewed numerical features to Box Cox transform\n"
          ],
          "name": "stdout"
        }
      ]
    },
    {
      "cell_type": "markdown",
      "metadata": {
        "id": "H8qQnCw8kNkB",
        "colab_type": "text"
      },
      "source": [
        "Box-Cox transformation. *(1 + x)*"
      ]
    },
    {
      "cell_type": "code",
      "metadata": {
        "id": "cZqZxfHekVsr",
        "colab_type": "code",
        "outputId": "36dc08d8-712d-41b7-8bb2-abb02ccd940f",
        "colab": {
          "base_uri": "https://localhost:8080/",
          "height": 35
        }
      },
      "source": [
        "all_data = pd.get_dummies(all_data)\n",
        "print(all_data.shape)"
      ],
      "execution_count": 0,
      "outputs": [
        {
          "output_type": "stream",
          "text": [
            "(2917, 220)\n"
          ],
          "name": "stdout"
        }
      ]
    },
    {
      "cell_type": "code",
      "metadata": {
        "id": "Glz17tYukYOl",
        "colab_type": "code",
        "colab": {}
      },
      "source": [
        "train = all_data[:ntrain]\n",
        "test = all_data[ntrain:]"
      ],
      "execution_count": 0,
      "outputs": []
    },
    {
      "cell_type": "markdown",
      "metadata": {
        "id": "XWGFnZ4LkbtM",
        "colab_type": "text"
      },
      "source": [
        "Here we are getting the new datasets for both train and test."
      ]
    },
    {
      "cell_type": "markdown",
      "metadata": {
        "id": "CezGXITRkiR2",
        "colab_type": "text"
      },
      "source": [
        "\n",
        "\n",
        "\n",
        "\n",
        "\n",
        "Now that the data has been properly formatted and missing values have been filled in, we can finally create the actual model.\n",
        "\n",
        "To start, we are going to import all of the modules that we will need for this model."
      ]
    },
    {
      "cell_type": "code",
      "metadata": {
        "id": "eimBo1EMkgQz",
        "colab_type": "code",
        "colab": {}
      },
      "source": [
        "from sklearn.linear_model import ElasticNet, Lasso,  BayesianRidge, LassoLarsIC\n",
        "from sklearn.ensemble import RandomForestRegressor,  GradientBoostingRegressor\n",
        "from sklearn.kernel_ridge import KernelRidge\n",
        "from sklearn.pipeline import make_pipeline\n",
        "from sklearn.preprocessing import RobustScaler\n",
        "from sklearn.base import BaseEstimator, TransformerMixin, RegressorMixin, clone\n",
        "from sklearn.model_selection import KFold, cross_val_score, train_test_split\n",
        "from sklearn.metrics import mean_squared_error\n",
        "import xgboost as xgb\n",
        "import lightgbm as lgb"
      ],
      "execution_count": 0,
      "outputs": []
    },
    {
      "cell_type": "code",
      "metadata": {
        "id": "j2S-hkcSk3ua",
        "colab_type": "code",
        "colab": {}
      },
      "source": [
        "n_folds = 5\n",
        "\n",
        "def rmsle_cv(model):\n",
        "    kf = KFold(n_folds, shuffle=True, random_state=42).get_n_splits(train.values)\n",
        "    rmse= np.sqrt(-cross_val_score(model, train.values, y_train, scoring=\"neg_mean_squared_error\", cv = kf))\n",
        "    return(rmse)"
      ],
      "execution_count": 0,
      "outputs": []
    },
    {
      "cell_type": "markdown",
      "metadata": {
        "id": "ZtM3x9ACk-6S",
        "colab_type": "text"
      },
      "source": [
        "We are defining a cross validation strategy first, in order to do that we will \"shuffle\" the data about."
      ]
    },
    {
      "cell_type": "markdown",
      "metadata": {
        "id": "xPEAgwuUlMS3",
        "colab_type": "text"
      },
      "source": [
        "Now we will go about creating the regression models."
      ]
    },
    {
      "cell_type": "code",
      "metadata": {
        "id": "pWOdZbbmlJNZ",
        "colab_type": "code",
        "colab": {}
      },
      "source": [
        "lasso = make_pipeline(RobustScaler(), Lasso(alpha =0.0005, random_state=1))"
      ],
      "execution_count": 0,
      "outputs": []
    },
    {
      "cell_type": "markdown",
      "metadata": {
        "id": "_d6XYvgGlWBN",
        "colab_type": "text"
      },
      "source": [
        "LASSO regression (using robustscaler() as this model is vulnerable to outliers)."
      ]
    },
    {
      "cell_type": "code",
      "metadata": {
        "id": "W9vQYdq-lMGA",
        "colab_type": "code",
        "colab": {}
      },
      "source": [
        "ENet = make_pipeline(RobustScaler(), ElasticNet(alpha=0.0005, l1_ratio=.9, random_state=3))"
      ],
      "execution_count": 0,
      "outputs": []
    },
    {
      "cell_type": "markdown",
      "metadata": {
        "id": "0j4fRGiblXME",
        "colab_type": "text"
      },
      "source": [
        "Elastic Net regression (doing the same as above)"
      ]
    },
    {
      "cell_type": "code",
      "metadata": {
        "id": "5_kMUIYwlTwa",
        "colab_type": "code",
        "colab": {}
      },
      "source": [
        "KRR = KernelRidge(alpha=0.6, kernel='polynomial', degree=2, coef0=2.5)"
      ],
      "execution_count": 0,
      "outputs": []
    },
    {
      "cell_type": "markdown",
      "metadata": {
        "id": "J89RlUHKlX1P",
        "colab_type": "text"
      },
      "source": [
        "Kernel Ridge regression"
      ]
    },
    {
      "cell_type": "code",
      "metadata": {
        "id": "z5BYdQaElVCv",
        "colab_type": "code",
        "colab": {}
      },
      "source": [
        "GBoost = GradientBoostingRegressor(n_estimators=3000, learning_rate=0.05,\n",
        "                                   max_depth=4, max_features='sqrt',\n",
        "                                   min_samples_leaf=15, min_samples_split=10, \n",
        "                                   loss='huber', random_state =5)"
      ],
      "execution_count": 0,
      "outputs": []
    },
    {
      "cell_type": "markdown",
      "metadata": {
        "id": "64KCTlJHluC5",
        "colab_type": "text"
      },
      "source": [
        "Gradient Boosting Regression (using hyuber loss that will make it robust to outliers)"
      ]
    },
    {
      "cell_type": "code",
      "metadata": {
        "id": "kcprrR7Yl2CN",
        "colab_type": "code",
        "colab": {}
      },
      "source": [
        "model_xgb = xgb.XGBRegressor(colsample_bytree=0.4603, gamma=0.0468, \n",
        "                             learning_rate=0.05, max_depth=3, \n",
        "                             min_child_weight=1.7817, n_estimators=2200,\n",
        "                             reg_alpha=0.4640, reg_lambda=0.8571,\n",
        "                             subsample=0.5213, silent=1,\n",
        "                             random_state =7, nthread = -1)"
      ],
      "execution_count": 0,
      "outputs": []
    },
    {
      "cell_type": "markdown",
      "metadata": {
        "id": "MLMaVcA6l4fU",
        "colab_type": "text"
      },
      "source": [
        "XGBoost"
      ]
    },
    {
      "cell_type": "code",
      "metadata": {
        "id": "ApG0DoyOl6oh",
        "colab_type": "code",
        "colab": {}
      },
      "source": [
        "model_lgb = lgb.LGBMRegressor(objective='regression',num_leaves=5,\n",
        "                              learning_rate=0.05, n_estimators=720,\n",
        "                              max_bin = 55, bagging_fraction = 0.8,\n",
        "                              bagging_freq = 5, feature_fraction = 0.2319,\n",
        "                              feature_fraction_seed=9, bagging_seed=9,\n",
        "                              min_data_in_leaf =6, min_sum_hessian_in_leaf = 11)"
      ],
      "execution_count": 0,
      "outputs": []
    },
    {
      "cell_type": "markdown",
      "metadata": {
        "id": "Ya-8IzPUl8xm",
        "colab_type": "text"
      },
      "source": [
        "LightGBM"
      ]
    },
    {
      "cell_type": "markdown",
      "metadata": {
        "id": "OoazxZgamIGr",
        "colab_type": "text"
      },
      "source": [
        "Now that we have entered enough models, we will begin cross validating in order to check the accuracy of each model."
      ]
    },
    {
      "cell_type": "code",
      "metadata": {
        "id": "vFEeHjKqmG2O",
        "colab_type": "code",
        "outputId": "8c7a0750-02e5-4e13-b1f6-77427f75aed6",
        "colab": {
          "base_uri": "https://localhost:8080/",
          "height": 72
        }
      },
      "source": [
        "score = rmsle_cv(lasso)\n",
        "print(\"\\nLasso score: {:.4f} ({:.4f})\\n\".format(score.mean(), score.std()))"
      ],
      "execution_count": 0,
      "outputs": [
        {
          "output_type": "stream",
          "text": [
            "\n",
            "Lasso score: 0.1115 (0.0074)\n",
            "\n"
          ],
          "name": "stdout"
        }
      ]
    },
    {
      "cell_type": "code",
      "metadata": {
        "id": "ViYxbowFmZBx",
        "colab_type": "code",
        "outputId": "8d2dfc81-fa55-405d-93b3-257d7181d488",
        "colab": {
          "base_uri": "https://localhost:8080/",
          "height": 54
        }
      },
      "source": [
        "score = rmsle_cv(ENet)\n",
        "print(\"ElasticNet score: {:.4f} ({:.4f})\\n\".format(score.mean(), score.std()))"
      ],
      "execution_count": 0,
      "outputs": [
        {
          "output_type": "stream",
          "text": [
            "ElasticNet score: 0.1116 (0.0074)\n",
            "\n"
          ],
          "name": "stdout"
        }
      ]
    },
    {
      "cell_type": "code",
      "metadata": {
        "id": "rRPhsheFmaph",
        "colab_type": "code",
        "outputId": "037aef30-9b9c-40dd-cfe0-2be87eab400c",
        "colab": {
          "base_uri": "https://localhost:8080/",
          "height": 54
        }
      },
      "source": [
        "score = rmsle_cv(KRR)\n",
        "print(\"Kernel Ridge score: {:.4f} ({:.4f})\\n\".format(score.mean(), score.std()))"
      ],
      "execution_count": 0,
      "outputs": [
        {
          "output_type": "stream",
          "text": [
            "Kernel Ridge score: 0.1153 (0.0075)\n",
            "\n"
          ],
          "name": "stdout"
        }
      ]
    },
    {
      "cell_type": "code",
      "metadata": {
        "id": "8EzgIWLLnFk9",
        "colab_type": "code",
        "outputId": "81d7a221-9ec7-4266-be1f-29b9ab6e1785",
        "colab": {
          "base_uri": "https://localhost:8080/",
          "height": 54
        }
      },
      "source": [
        "score = rmsle_cv(GBoost)\n",
        "print(\"Gradient Boosting score: {:.4f} ({:.4f})\\n\".format(score.mean(), score.std()))"
      ],
      "execution_count": 0,
      "outputs": [
        {
          "output_type": "stream",
          "text": [
            "Gradient Boosting score: 0.1177 (0.0080)\n",
            "\n"
          ],
          "name": "stdout"
        }
      ]
    },
    {
      "cell_type": "code",
      "metadata": {
        "id": "6xnLac-Ama8z",
        "colab_type": "code",
        "outputId": "ddbd2eec-ed34-4564-c2e3-ababddd8b3f4",
        "colab": {
          "base_uri": "https://localhost:8080/",
          "height": 54
        }
      },
      "source": [
        "score = rmsle_cv(model_xgb)\n",
        "print(\"Xgboost score: {:.4f} ({:.4f})\\n\".format(score.mean(), score.std()))"
      ],
      "execution_count": 0,
      "outputs": [
        {
          "output_type": "stream",
          "text": [
            "Xgboost score: 0.1168 (0.0058)\n",
            "\n"
          ],
          "name": "stdout"
        }
      ]
    },
    {
      "cell_type": "code",
      "metadata": {
        "id": "MkKRUsKymbDD",
        "colab_type": "code",
        "outputId": "85068af8-e357-4020-940c-ee0966785d69",
        "colab": {
          "base_uri": "https://localhost:8080/",
          "height": 54
        }
      },
      "source": [
        "score = rmsle_cv(model_lgb)\n",
        "print(\"LightGBM score: {:.4f} ({:.4f})\\n\" .format(score.mean(), score.std()))"
      ],
      "execution_count": 0,
      "outputs": [
        {
          "output_type": "stream",
          "text": [
            "LightGBM score: 0.1167 (0.0072)\n",
            "\n"
          ],
          "name": "stdout"
        }
      ]
    },
    {
      "cell_type": "markdown",
      "metadata": {
        "id": "JFGW27HKmijv",
        "colab_type": "text"
      },
      "source": [
        "Now that we have checked the accuracy of the models, we can begin to stack.\n",
        "\n",
        "We will be doing this by averaging base models."
      ]
    },
    {
      "cell_type": "code",
      "metadata": {
        "id": "rcFTHQD0nJ0m",
        "colab_type": "code",
        "colab": {}
      },
      "source": [
        "class AveragingModels(BaseEstimator, RegressorMixin, TransformerMixin):\n",
        "    def __init__(self, models):\n",
        "        self.models = models\n",
        "        \n",
        "    def fit(self, X, y):\n",
        "        self.models_ = [clone(x) for x in self.models]\n",
        "        \n",
        "        for model in self.models_:\n",
        "            model.fit(X, y)\n",
        "\n",
        "        return self\n",
        "    \n",
        "    def predict(self, X):\n",
        "        predictions = np.column_stack([\n",
        "            model.predict(X) for model in self.models_\n",
        "        ])\n",
        "        return np.mean(predictions, axis=1)   \n",
        "\n"
      ],
      "execution_count": 0,
      "outputs": []
    },
    {
      "cell_type": "markdown",
      "metadata": {
        "id": "bdfcMIobofDQ",
        "colab_type": "text"
      },
      "source": [
        "This class is going to be used to average the base models, now we must apply it to the various models that have been created."
      ]
    },
    {
      "cell_type": "code",
      "metadata": {
        "id": "piGSjUxkoebg",
        "colab_type": "code",
        "outputId": "9f4e1516-543b-4c8a-c909-4312b446e42d",
        "colab": {
          "base_uri": "https://localhost:8080/",
          "height": 54
        }
      },
      "source": [
        "averaged_models = AveragingModels(models = (ENet, GBoost, KRR, lasso))\n",
        "\n",
        "score = rmsle_cv(averaged_models)\n",
        "print(\" Averaged base models score: {:.4f} ({:.4f})\\n\".format(score.mean(), score.std()))"
      ],
      "execution_count": 0,
      "outputs": [
        {
          "output_type": "stream",
          "text": [
            " Averaged base models score: 0.1091 (0.0075)\n",
            "\n"
          ],
          "name": "stdout"
        }
      ]
    },
    {
      "cell_type": "markdown",
      "metadata": {
        "id": "L-NGI2C3tQ3N",
        "colab_type": "text"
      },
      "source": [
        "Right now we are only averaging 4 models but more than 4 could very easily be used. "
      ]
    },
    {
      "cell_type": "markdown",
      "metadata": {
        "id": "M_e9IakgtlNB",
        "colab_type": "text"
      },
      "source": [
        "Now we are going to try a more complex stacking model.\n",
        "\n",
        "This model is known as the meta model.\n",
        "\n",
        "It works by splitting the set of training data into 2 new sets. The model then trains several models in the first part and several models within the second part.\n",
        "It then uses a certain ammount of these predictions in order to train a new model. The ammount of times that this process is carried out is reffered to as the ammount of \"folds\" in a meta-model."
      ]
    },
    {
      "cell_type": "code",
      "metadata": {
        "id": "aemQrlmltQOa",
        "colab_type": "code",
        "colab": {}
      },
      "source": [
        "class StackingAveragedModels(BaseEstimator, RegressorMixin, TransformerMixin):\n",
        "    def __init__(self, base_models, meta_model, n_folds=5):\n",
        "        self.base_models = base_models\n",
        "        self.meta_model = meta_model\n",
        "        self.n_folds = n_folds\n",
        "   \n",
        "    def fit(self, X, y):\n",
        "        self.base_models_ = [list() for x in self.base_models]\n",
        "        self.meta_model_ = clone(self.meta_model)\n",
        "        kfold = KFold(n_splits=self.n_folds, shuffle=True, random_state=156)\n",
        "        \n",
        "        out_of_fold_predictions = np.zeros((X.shape[0], len(self.base_models)))\n",
        "        for i, model in enumerate(self.base_models):\n",
        "            for train_index, holdout_index in kfold.split(X, y):\n",
        "                instance = clone(model)\n",
        "                self.base_models_[i].append(instance)\n",
        "                instance.fit(X[train_index], y[train_index])\n",
        "                y_pred = instance.predict(X[holdout_index])\n",
        "                out_of_fold_predictions[holdout_index, i] = y_pred\n",
        "                \n",
        "        self.meta_model_.fit(out_of_fold_predictions, y)\n",
        "        return self\n",
        "   \n",
        "    def predict(self, X):\n",
        "        meta_features = np.column_stack([\n",
        "            np.column_stack([model.predict(X) for model in base_models]).mean(axis=1)\n",
        "            for base_models in self.base_models_ ])\n",
        "        return self.meta_model_.predict(meta_features)"
      ],
      "execution_count": 0,
      "outputs": []
    },
    {
      "cell_type": "code",
      "metadata": {
        "id": "dCyMksjkusog",
        "colab_type": "code",
        "outputId": "9e4e5546-8769-481e-f88e-73bc9edb367d",
        "colab": {
          "base_uri": "https://localhost:8080/",
          "height": 35
        }
      },
      "source": [
        "stacked_averaged_models = StackingAveragedModels(base_models = (ENet, GBoost, KRR),\n",
        "                                                 meta_model = lasso)\n",
        "\n",
        "score = rmsle_cv(stacked_averaged_models)\n",
        "print(\"Stacking Averaged models score: {:.4f} ({:.4f})\".format(score.mean(), score.std()))"
      ],
      "execution_count": 0,
      "outputs": [
        {
          "output_type": "stream",
          "text": [
            "Stacking Averaged models score: 0.1085 (0.0074)\n"
          ],
          "name": "stdout"
        }
      ]
    },
    {
      "cell_type": "code",
      "metadata": {
        "id": "-Oww-KUcMzK8",
        "colab_type": "code",
        "colab": {}
      },
      "source": [
        "def rmsle(y, y_pred):\n",
        "    return np.sqrt(mean_squared_error(y, y_pred))"
      ],
      "execution_count": 0,
      "outputs": []
    },
    {
      "cell_type": "code",
      "metadata": {
        "id": "tbhhwOmiM1bn",
        "colab_type": "code",
        "outputId": "8e2d47ce-6ccb-474a-e3a9-f27eac2864b8",
        "colab": {
          "base_uri": "https://localhost:8080/",
          "height": 35
        }
      },
      "source": [
        "stacked_averaged_models.fit(train.values, y_train)\n",
        "stacked_train_pred = stacked_averaged_models.predict(train.values)\n",
        "stacked_pred = np.expm1(stacked_averaged_models.predict(test.values))\n",
        "print(rmsle(y_train, stacked_train_pred))"
      ],
      "execution_count": 0,
      "outputs": [
        {
          "output_type": "stream",
          "text": [
            "0.07803882799654432\n"
          ],
          "name": "stdout"
        }
      ]
    },
    {
      "cell_type": "code",
      "metadata": {
        "id": "RUmkt1KiM4lH",
        "colab_type": "code",
        "outputId": "e97b30ed-2410-4e42-ed07-b4eaed4e33b0",
        "colab": {
          "base_uri": "https://localhost:8080/",
          "height": 35
        }
      },
      "source": [
        "model_xgb.fit(train, y_train)\n",
        "xgb_train_pred = model_xgb.predict(train)\n",
        "xgb_pred = np.expm1(model_xgb.predict(test))\n",
        "print(rmsle(y_train, xgb_train_pred))"
      ],
      "execution_count": 0,
      "outputs": [
        {
          "output_type": "stream",
          "text": [
            "0.07900074237023577\n"
          ],
          "name": "stdout"
        }
      ]
    },
    {
      "cell_type": "code",
      "metadata": {
        "id": "D8dGtPltM8HN",
        "colab_type": "code",
        "outputId": "4fe54cf7-4812-467d-c111-c488b1d7d551",
        "colab": {
          "base_uri": "https://localhost:8080/",
          "height": 35
        }
      },
      "source": [
        "model_lgb.fit(train, y_train)\n",
        "lgb_train_pred = model_lgb.predict(train)\n",
        "lgb_pred = np.expm1(model_lgb.predict(test.values))\n",
        "print(rmsle(y_train, lgb_train_pred))"
      ],
      "execution_count": 0,
      "outputs": [
        {
          "output_type": "stream",
          "text": [
            "0.07343743130986105\n"
          ],
          "name": "stdout"
        }
      ]
    },
    {
      "cell_type": "code",
      "metadata": {
        "id": "lcpgqOilM-g9",
        "colab_type": "code",
        "outputId": "217b49cd-c8df-4441-b47f-8897220fab44",
        "colab": {
          "base_uri": "https://localhost:8080/",
          "height": 54
        }
      },
      "source": [
        "print('RMSLE score on train data:')\n",
        "print(rmsle(y_train,stacked_train_pred*0.70 +\n",
        "               xgb_train_pred*0.15 + lgb_train_pred*0.15 ))"
      ],
      "execution_count": 0,
      "outputs": [
        {
          "output_type": "stream",
          "text": [
            "RMSLE score on train data:\n",
            "0.07549168264912301\n"
          ],
          "name": "stdout"
        }
      ]
    },
    {
      "cell_type": "code",
      "metadata": {
        "id": "tQh1OrI3M_3g",
        "colab_type": "code",
        "colab": {}
      },
      "source": [
        "ensemble = stacked_pred*0.70 + xgb_pred*0.15 + lgb_pred*0.15\n"
      ],
      "execution_count": 0,
      "outputs": []
    },
    {
      "cell_type": "code",
      "metadata": {
        "id": "jBc8G3kVNCFv",
        "colab_type": "code",
        "colab": {}
      },
      "source": [
        "sub = pd.DataFrame()\n",
        "sub['Id'] = test_ID\n",
        "sub['SalePrice'] = ensemble\n",
        "sub.to_csv('submission.csv',index=False)\n",
        "\n"
      ],
      "execution_count": 0,
      "outputs": []
    }
  ]
}